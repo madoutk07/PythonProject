{
 "cells": [
  {
   "cell_type": "code",
   "execution_count": 6,
   "id": "4fb9df99",
   "metadata": {},
   "outputs": [
    {
     "data": {
      "application/vnd.jupyter.widget-view+json": {
       "model_id": "efebc010b5b64fdab7231aa009daa67d",
       "version_major": 2,
       "version_minor": 0
      },
      "text/plain": [
       "Text(value='', description='Mot-clé')"
      ]
     },
     "metadata": {},
     "output_type": "display_data"
    },
    {
     "data": {
      "application/vnd.jupyter.widget-view+json": {
       "model_id": "cd3d32b1b154411996b82ac2a1b1bf29",
       "version_major": 2,
       "version_minor": 0
      },
      "text/plain": [
       "IntSlider(value=10, description=\"Nombre d'articles\", min=1)"
      ]
     },
     "metadata": {},
     "output_type": "display_data"
    }
   ],
   "source": [
    "import ipywidgets as widgets\n",
    "from IPython.display import display\n",
    "from  acquisition import  scrapper\n",
    "\n",
    "mot_clef_widget = widgets.Text(description=\"Mot-clé\")\n",
    "nb_articles_widget = widgets.IntSlider(min=1, max=100, step=1, value=10, description=\"Nombre d'articles\")\n",
    "\n",
    "display(mot_clef_widget, nb_articles_widget )\n",
    "\n"
   ]
  },
  {
   "cell_type": "code",
   "execution_count": 8,
   "id": "3cc213d1",
   "metadata": {},
   "outputs": [
    {
     "name": "stdout",
     "output_type": "stream",
     "text": [
      "france\n",
      "france\n",
      "Reddit: 1 / 10\n",
      "france\n",
      "Reddit: 2 / 10\n",
      "france\n",
      "france\n",
      "france\n",
      "france\n",
      "france\n",
      "france\n",
      "france\n",
      "france\n",
      "france\n",
      "Reddit: 3 / 10\n",
      "france\n",
      "Reddit: 4 / 10\n",
      "france\n",
      "france\n",
      "france\n",
      "france\n",
      "france\n",
      "france\n",
      "france\n",
      "Reddit: 5 / 10\n",
      "france\n",
      "Reddit: 6 / 10\n",
      "france\n",
      "france\n",
      "france\n",
      "france\n",
      "france\n",
      "Reddit: 7 / 10\n",
      "france\n",
      "Reddit: 8 / 10\n",
      "france\n",
      "france\n",
      "france\n",
      "Reddit: 9 / 10\n",
      "france\n",
      "Reddit: 10 / 10\n",
      "ArXiv: 1 / 10\n",
      "ArXiv: 2 / 10\n",
      "ArXiv: 3 / 10\n",
      "ArXiv: 4 / 10\n",
      "ArXiv: 5 / 10\n",
      "ArXiv: 6 / 10\n",
      "ArXiv: 7 / 10\n",
      "ArXiv: 8 / 10\n",
      "ArXiv: 9 / 10\n",
      "ArXiv: 10 / 10\n",
      "auteur Joanna Polcyn\n",
      "coauteur ['Andrzej Ruciński']\n",
      "auteur Hui Li\n",
      "coauteur ['Jun Wang', 'Xiao Yao', 'Zhuan Ye']\n",
      "auteur J. Arrington\n",
      "coauteur ['P. Anthony', 'R. G. Arnold', 'E. J. Beise', 'J. E. Belz', 'P. E. Bosted', 'H. -J. Bulten', 'M. S. Chapman', 'K. P. Coulter', 'F. Dietrich', 'R. Ent', 'M. Epstein', 'B. W. Filippone', 'H. Gao', 'R. A. Gearhart', 'D. F. Geesaman', 'J. -O. Hansen', 'R. J. Holt', 'H. E. Jackson', 'C. E. Jones', 'C. E. Keppel', 'E. R. Kinney', 'S. Kuhn', 'K. Lee', 'W. Lorenzon', 'A. Lung', 'N. C. R. Makins', 'D. J. Margaziotis', 'R. D. McKeown', 'R. G. Milner', 'B. Mueller', 'J. Napolitano', 'J. Nelson', \"T. G. O'Neill\", 'V. Papavassiliou', 'G. G. Petratos', 'D. H. Potterveld', 'S. E. Rock', 'M. Spengos', 'Z. M. Szalata', 'L. H. Tao', 'K. vanBibber', 'J. F. J. van den Brand', 'J. L. White', 'D. Winter', 'B. Zeidman']\n",
      "auteur Euclid Collaboration\n",
      "coauteur ['P. Paykari', 'T. D. Kitching', 'H. Hoekstra', 'R. Azzollini', 'V. F. Cardone', 'M. Cropper', 'C. A. J. Duncan', 'A. Kannawadi', 'L. Miller', 'H. Aussel', 'I. F. Conti', 'N. Auricchio', 'M. Baldi', 'S. Bardelli', 'A. Biviano', 'D. Bonino', 'E. Borsato', 'E. Bozzo', 'E. Branchini', 'S. Brau-Nogue', 'M. Brescia', 'J. Brinchmann', 'C. Burigana', 'S. Camera', 'V. Capobianco', 'C. Carbone', 'J. Carretero', 'F. J. Castander', 'M. Castellano', 'S. Cavuoti', 'Y. Charles', 'R. Cledassou', 'C. Colodro-Conde', 'G. Congedo', 'C. Conselice', 'L. Conversi', 'Y. Copin', 'J. Coupon', 'H. M. Courtois', 'A. Da Silva', 'X. Dupac', 'G. Fabbian', 'S. Farrens', 'P. G. Ferreira', 'P. Fosalba', 'N. Fourmanoit', 'M. Frailis', 'M. Fumana', 'S. Galeotta', 'B. Garilli', 'W. Gillard', 'B. R. Gillis', 'C. Giocoli', 'J. Gracia-Carpio', 'F. Grupp', 'F. Hormuth', 'S. Ilic', 'H. Israel', 'K. Jahnke', 'E. Keihanen', 'S. Kermiche', 'M. Kilbinger', 'C. C. Kirkpatrick', 'B. Kubik', 'M. Kunz', 'H. Kurki-Suonio', 'F. Lacasa', 'R. Laureijs', 'D. Le Mignant', 'S. Ligori', 'P. B. Lilje', 'I. Lloro', 'T. Maciaszek', 'E. Maiorano', 'O. Marggraf', 'M. Martinelli', 'N. Martinet', 'F. Marulli R. Massey', 'N. Mauri', 'E. Medinaceli', 'S. Mei', 'Y. Mellier', 'M. Meneghetti', 'R. B. Metcalf', 'M. Moresco', 'L. Moscardini', 'E. Munari', 'C. Neissner', 'R. C. Nichol', 'S. Niemi', 'T. Nutma', 'C. Padilla', 'S. Paltani', 'F. Pasian', 'V. Pettorino', 'S. Pires', 'G. Polenta', 'A. Pourtsidou', 'F. Raison', 'A. Renzi', 'J. Rhodes', 'E. Romelli', 'M. Roncarelli', 'E. Rossetti', 'R. Saglia', 'A. G. Sánchez', 'D. Sapone', 'R. Scaramella', 'P. Schneider', 'T. Schrabback', 'V. Scottez', 'A. Secroun', 'S. Serrano', 'C. Sirignano', 'G. Sirri', 'L. Stanco', 'J. -L. Starck', 'F. Sureau', 'P. Tallada-Crespí', 'A. Taylor', 'M. Tenti', 'I. Tereno', 'R. Toledo-Moreo', 'F. Torradeflot', 'I. Tutusaus', 'L. Valenziano', 'M. Vannier', 'T. Vassallo', 'J. Zoubian', 'E. Zucca']\n"
     ]
    }
   ],
   "source": [
    "\n",
    "corpusi = scrapper(mot_clef_widget.value.split(\",\"),nb_articles_widget.value)"
   ]
  },
  {
   "cell_type": "code",
   "execution_count": 9,
   "id": "24b79be3",
   "metadata": {},
   "outputs": [
    {
     "name": "stdout",
     "output_type": "stream",
     "text": [
      "0 Mardi Cuisine - 2024-01-09, par AutoModerator\tNombre de commentaires : 18\n",
      "1 Mise à jour de l'annuaire francophone de reddit - Besoin de vous pour le recensement., par ModtownMadness\tNombre de commentaires : 10\n",
      "2 On disjoint paths in acyclic planar graphs, par Guyslain Naves\tCo-auteurs : []\n",
      "3 Schur's exponent conjecture II, par Michael Vaughan-Lee\tCo-auteurs : []\n",
      "4 About maximal number of edges in hypergraph-clique with chromatic number  3, par Danila D. Cherkashin\tCo-auteurs : []\n",
      "5 The Picard-Lefschetz theory of complexified Morse functions, par Joe Johns\tCo-auteurs : []\n",
      "6 Graded $F$-modules and Local Cohomology, par Yi Zhang\tCo-auteurs : []\n",
      "7 Refined Turán numbers and Ramsey numbers for the loose 3-uniform path  of length three, par Joanna Polcyn\tCo-auteurs : ['Andrzej Ruciński']\n",
      "8 One more Turán number and Ramsey number for the loose 3-uniform path  of length three, par Joanna Polcyn\tCo-auteurs : []\n",
      "9 Inequalities Concerning Maximum Modulus and Zeros of Random Entire  Functions, par Hui Li\tCo-auteurs : ['Jun Wang', 'Xiao Yao', 'Zhuan Ye']\n",
      "10 Inclusive Electron Scattering from Nuclei at $x \\simeq 1$, par J. Arrington\tCo-auteurs : ['P. Anthony', 'R. G. Arnold', 'E. J. Beise', 'J. E. Belz', 'P. E. Bosted', 'H. -J. Bulten', 'M. S. Chapman', 'K. P. Coulter', 'F. Dietrich', 'R. Ent', 'M. Epstein', 'B. W. Filippone', 'H. Gao', 'R. A. Gearhart', 'D. F. Geesaman', 'J. -O. Hansen', 'R. J. Holt', 'H. E. Jackson', 'C. E. Jones', 'C. E. Keppel', 'E. R. Kinney', 'S. Kuhn', 'K. Lee', 'W. Lorenzon', 'A. Lung', 'N. C. R. Makins', 'D. J. Margaziotis', 'R. D. McKeown', 'R. G. Milner', 'B. Mueller', 'J. Napolitano', 'J. Nelson', \"T. G. O'Neill\", 'V. Papavassiliou', 'G. G. Petratos', 'D. H. Potterveld', 'S. E. Rock', 'M. Spengos', 'Z. M. Szalata', 'L. H. Tao', 'K. vanBibber', 'J. F. J. van den Brand', 'J. L. White', 'D. Winter', 'B. Zeidman']\n",
      "11 Euclid preparation: VI. Verifying the Performance of Cosmic Shear  Experiments, par Euclid Collaboration\tCo-auteurs : ['P. Paykari', 'T. D. Kitching', 'H. Hoekstra', 'R. Azzollini', 'V. F. Cardone', 'M. Cropper', 'C. A. J. Duncan', 'A. Kannawadi', 'L. Miller', 'H. Aussel', 'I. F. Conti', 'N. Auricchio', 'M. Baldi', 'S. Bardelli', 'A. Biviano', 'D. Bonino', 'E. Borsato', 'E. Bozzo', 'E. Branchini', 'S. Brau-Nogue', 'M. Brescia', 'J. Brinchmann', 'C. Burigana', 'S. Camera', 'V. Capobianco', 'C. Carbone', 'J. Carretero', 'F. J. Castander', 'M. Castellano', 'S. Cavuoti', 'Y. Charles', 'R. Cledassou', 'C. Colodro-Conde', 'G. Congedo', 'C. Conselice', 'L. Conversi', 'Y. Copin', 'J. Coupon', 'H. M. Courtois', 'A. Da Silva', 'X. Dupac', 'G. Fabbian', 'S. Farrens', 'P. G. Ferreira', 'P. Fosalba', 'N. Fourmanoit', 'M. Frailis', 'M. Fumana', 'S. Galeotta', 'B. Garilli', 'W. Gillard', 'B. R. Gillis', 'C. Giocoli', 'J. Gracia-Carpio', 'F. Grupp', 'F. Hormuth', 'S. Ilic', 'H. Israel', 'K. Jahnke', 'E. Keihanen', 'S. Kermiche', 'M. Kilbinger', 'C. C. Kirkpatrick', 'B. Kubik', 'M. Kunz', 'H. Kurki-Suonio', 'F. Lacasa', 'R. Laureijs', 'D. Le Mignant', 'S. Ligori', 'P. B. Lilje', 'I. Lloro', 'T. Maciaszek', 'E. Maiorano', 'O. Marggraf', 'M. Martinelli', 'N. Martinet', 'F. Marulli R. Massey', 'N. Mauri', 'E. Medinaceli', 'S. Mei', 'Y. Mellier', 'M. Meneghetti', 'R. B. Metcalf', 'M. Moresco', 'L. Moscardini', 'E. Munari', 'C. Neissner', 'R. C. Nichol', 'S. Niemi', 'T. Nutma', 'C. Padilla', 'S. Paltani', 'F. Pasian', 'V. Pettorino', 'S. Pires', 'G. Polenta', 'A. Pourtsidou', 'F. Raison', 'A. Renzi', 'J. Rhodes', 'E. Romelli', 'M. Roncarelli', 'E. Rossetti', 'R. Saglia', 'A. G. Sánchez', 'D. Sapone', 'R. Scaramella', 'P. Schneider', 'T. Schrabback', 'V. Scottez', 'A. Secroun', 'S. Serrano', 'C. Sirignano', 'G. Sirri', 'L. Stanco', 'J. -L. Starck', 'F. Sureau', 'P. Tallada-Crespí', 'A. Taylor', 'M. Tenti', 'I. Tereno', 'R. Toledo-Moreo', 'F. Torradeflot', 'I. Tutusaus', 'L. Valenziano', 'M. Vannier', 'T. Vassallo', 'J. Zoubian', 'E. Zucca']AutoModerator Auteur : AutoModerator\t# nombreproductions : 5\n",
      "ModtownMadness Auteur : ModtownMadness\t# nombreproductions : 5\n",
      "Guyslain Naves Auteur : Guyslain Naves\t# nombreproductions : 1\n",
      "Michael Vaughan-Lee Auteur : Michael Vaughan-Lee\t# nombreproductions : 1\n",
      "Danila D. Cherkashin Auteur : Danila D. Cherkashin\t# nombreproductions : 1\n",
      "Joe Johns Auteur : Joe Johns\t# nombreproductions : 1\n",
      "Yi Zhang Auteur : Yi Zhang\t# nombreproductions : 1\n",
      "Joanna Polcyn Auteur : Joanna Polcyn\t# nombreproductions : 2\n",
      "Andrzej Ruciński Auteur : Andrzej Ruciński\t# nombreproductions : 1\n",
      "Hui Li Auteur : Hui Li\t# nombreproductions : 1\n",
      "Jun Wang Auteur : Jun Wang\t# nombreproductions : 1\n",
      "Xiao Yao Auteur : Xiao Yao\t# nombreproductions : 1\n",
      "Zhuan Ye Auteur : Zhuan Ye\t# nombreproductions : 1\n",
      "J. Arrington Auteur : J. Arrington\t# nombreproductions : 1\n",
      "P. Anthony Auteur : P. Anthony\t# nombreproductions : 1\n",
      "R. G. Arnold Auteur : R. G. Arnold\t# nombreproductions : 1\n",
      "E. J. Beise Auteur : E. J. Beise\t# nombreproductions : 1\n",
      "J. E. Belz Auteur : J. E. Belz\t# nombreproductions : 1\n",
      "P. E. Bosted Auteur : P. E. Bosted\t# nombreproductions : 1\n",
      "H. -J. Bulten Auteur : H. -J. Bulten\t# nombreproductions : 1\n",
      "M. S. Chapman Auteur : M. S. Chapman\t# nombreproductions : 1\n",
      "K. P. Coulter Auteur : K. P. Coulter\t# nombreproductions : 1\n",
      "F. Dietrich Auteur : F. Dietrich\t# nombreproductions : 1\n",
      "R. Ent Auteur : R. Ent\t# nombreproductions : 1\n",
      "M. Epstein Auteur : M. Epstein\t# nombreproductions : 1\n",
      "B. W. Filippone Auteur : B. W. Filippone\t# nombreproductions : 1\n",
      "H. Gao Auteur : H. Gao\t# nombreproductions : 1\n",
      "R. A. Gearhart Auteur : R. A. Gearhart\t# nombreproductions : 1\n",
      "D. F. Geesaman Auteur : D. F. Geesaman\t# nombreproductions : 1\n",
      "J. -O. Hansen Auteur : J. -O. Hansen\t# nombreproductions : 1\n",
      "R. J. Holt Auteur : R. J. Holt\t# nombreproductions : 1\n",
      "H. E. Jackson Auteur : H. E. Jackson\t# nombreproductions : 1\n",
      "C. E. Jones Auteur : C. E. Jones\t# nombreproductions : 1\n",
      "C. E. Keppel Auteur : C. E. Keppel\t# nombreproductions : 1\n",
      "E. R. Kinney Auteur : E. R. Kinney\t# nombreproductions : 1\n",
      "S. Kuhn Auteur : S. Kuhn\t# nombreproductions : 1\n",
      "K. Lee Auteur : K. Lee\t# nombreproductions : 1\n",
      "W. Lorenzon Auteur : W. Lorenzon\t# nombreproductions : 1\n",
      "A. Lung Auteur : A. Lung\t# nombreproductions : 1\n",
      "N. C. R. Makins Auteur : N. C. R. Makins\t# nombreproductions : 1\n",
      "D. J. Margaziotis Auteur : D. J. Margaziotis\t# nombreproductions : 1\n",
      "R. D. McKeown Auteur : R. D. McKeown\t# nombreproductions : 1\n",
      "R. G. Milner Auteur : R. G. Milner\t# nombreproductions : 1\n",
      "B. Mueller Auteur : B. Mueller\t# nombreproductions : 1\n",
      "J. Napolitano Auteur : J. Napolitano\t# nombreproductions : 1\n",
      "J. Nelson Auteur : J. Nelson\t# nombreproductions : 1\n",
      "T. G. O'Neill Auteur : T. G. O'Neill\t# nombreproductions : 1\n",
      "V. Papavassiliou Auteur : V. Papavassiliou\t# nombreproductions : 1\n",
      "G. G. Petratos Auteur : G. G. Petratos\t# nombreproductions : 1\n",
      "D. H. Potterveld Auteur : D. H. Potterveld\t# nombreproductions : 1\n",
      "S. E. Rock Auteur : S. E. Rock\t# nombreproductions : 1\n",
      "M. Spengos Auteur : M. Spengos\t# nombreproductions : 1\n",
      "Z. M. Szalata Auteur : Z. M. Szalata\t# nombreproductions : 1\n",
      "L. H. Tao Auteur : L. H. Tao\t# nombreproductions : 1\n",
      "K. vanBibber Auteur : K. vanBibber\t# nombreproductions : 1\n",
      "J. F. J. van den Brand Auteur : J. F. J. van den Brand\t# nombreproductions : 1\n",
      "J. L. White Auteur : J. L. White\t# nombreproductions : 1\n",
      "D. Winter Auteur : D. Winter\t# nombreproductions : 1\n",
      "B. Zeidman Auteur : B. Zeidman\t# nombreproductions : 1\n",
      "Euclid Collaboration Auteur : Euclid Collaboration\t# nombreproductions : 1\n",
      "P. Paykari Auteur : P. Paykari\t# nombreproductions : 1\n",
      "T. D. Kitching Auteur : T. D. Kitching\t# nombreproductions : 1\n",
      "H. Hoekstra Auteur : H. Hoekstra\t# nombreproductions : 1\n",
      "R. Azzollini Auteur : R. Azzollini\t# nombreproductions : 1\n",
      "V. F. Cardone Auteur : V. F. Cardone\t# nombreproductions : 1\n",
      "M. Cropper Auteur : M. Cropper\t# nombreproductions : 1\n",
      "C. A. J. Duncan Auteur : C. A. J. Duncan\t# nombreproductions : 1\n",
      "A. Kannawadi Auteur : A. Kannawadi\t# nombreproductions : 1\n",
      "L. Miller Auteur : L. Miller\t# nombreproductions : 1\n",
      "H. Aussel Auteur : H. Aussel\t# nombreproductions : 1\n",
      "I. F. Conti Auteur : I. F. Conti\t# nombreproductions : 1\n",
      "N. Auricchio Auteur : N. Auricchio\t# nombreproductions : 1\n",
      "M. Baldi Auteur : M. Baldi\t# nombreproductions : 1\n",
      "S. Bardelli Auteur : S. Bardelli\t# nombreproductions : 1\n",
      "A. Biviano Auteur : A. Biviano\t# nombreproductions : 1\n",
      "D. Bonino Auteur : D. Bonino\t# nombreproductions : 1\n",
      "E. Borsato Auteur : E. Borsato\t# nombreproductions : 1\n",
      "E. Bozzo Auteur : E. Bozzo\t# nombreproductions : 1\n",
      "E. Branchini Auteur : E. Branchini\t# nombreproductions : 1\n",
      "S. Brau-Nogue Auteur : S. Brau-Nogue\t# nombreproductions : 1\n",
      "M. Brescia Auteur : M. Brescia\t# nombreproductions : 1\n",
      "J. Brinchmann Auteur : J. Brinchmann\t# nombreproductions : 1\n",
      "C. Burigana Auteur : C. Burigana\t# nombreproductions : 1\n",
      "S. Camera Auteur : S. Camera\t# nombreproductions : 1\n",
      "V. Capobianco Auteur : V. Capobianco\t# nombreproductions : 1\n",
      "C. Carbone Auteur : C. Carbone\t# nombreproductions : 1\n",
      "J. Carretero Auteur : J. Carretero\t# nombreproductions : 1\n",
      "F. J. Castander Auteur : F. J. Castander\t# nombreproductions : 1\n",
      "M. Castellano Auteur : M. Castellano\t# nombreproductions : 1\n",
      "S. Cavuoti Auteur : S. Cavuoti\t# nombreproductions : 1\n",
      "Y. Charles Auteur : Y. Charles\t# nombreproductions : 1\n",
      "R. Cledassou Auteur : R. Cledassou\t# nombreproductions : 1\n",
      "C. Colodro-Conde Auteur : C. Colodro-Conde\t# nombreproductions : 1\n",
      "G. Congedo Auteur : G. Congedo\t# nombreproductions : 1\n",
      "C. Conselice Auteur : C. Conselice\t# nombreproductions : 1\n",
      "L. Conversi Auteur : L. Conversi\t# nombreproductions : 1\n",
      "Y. Copin Auteur : Y. Copin\t# nombreproductions : 1\n",
      "J. Coupon Auteur : J. Coupon\t# nombreproductions : 1\n",
      "H. M. Courtois Auteur : H. M. Courtois\t# nombreproductions : 1\n",
      "A. Da Silva Auteur : A. Da Silva\t# nombreproductions : 1\n",
      "X. Dupac Auteur : X. Dupac\t# nombreproductions : 1\n",
      "G. Fabbian Auteur : G. Fabbian\t# nombreproductions : 1\n",
      "S. Farrens Auteur : S. Farrens\t# nombreproductions : 1\n",
      "P. G. Ferreira Auteur : P. G. Ferreira\t# nombreproductions : 1\n",
      "P. Fosalba Auteur : P. Fosalba\t# nombreproductions : 1\n",
      "N. Fourmanoit Auteur : N. Fourmanoit\t# nombreproductions : 1\n",
      "M. Frailis Auteur : M. Frailis\t# nombreproductions : 1\n",
      "M. Fumana Auteur : M. Fumana\t# nombreproductions : 1\n",
      "S. Galeotta Auteur : S. Galeotta\t# nombreproductions : 1\n",
      "B. Garilli Auteur : B. Garilli\t# nombreproductions : 1\n",
      "W. Gillard Auteur : W. Gillard\t# nombreproductions : 1\n",
      "B. R. Gillis Auteur : B. R. Gillis\t# nombreproductions : 1\n",
      "C. Giocoli Auteur : C. Giocoli\t# nombreproductions : 1\n",
      "J. Gracia-Carpio Auteur : J. Gracia-Carpio\t# nombreproductions : 1\n",
      "F. Grupp Auteur : F. Grupp\t# nombreproductions : 1\n",
      "F. Hormuth Auteur : F. Hormuth\t# nombreproductions : 1\n",
      "S. Ilic Auteur : S. Ilic\t# nombreproductions : 1\n",
      "H. Israel Auteur : H. Israel\t# nombreproductions : 1\n",
      "K. Jahnke Auteur : K. Jahnke\t# nombreproductions : 1\n",
      "E. Keihanen Auteur : E. Keihanen\t# nombreproductions : 1\n",
      "S. Kermiche Auteur : S. Kermiche\t# nombreproductions : 1\n",
      "M. Kilbinger Auteur : M. Kilbinger\t# nombreproductions : 1\n",
      "C. C. Kirkpatrick Auteur : C. C. Kirkpatrick\t# nombreproductions : 1\n",
      "B. Kubik Auteur : B. Kubik\t# nombreproductions : 1\n",
      "M. Kunz Auteur : M. Kunz\t# nombreproductions : 1\n",
      "H. Kurki-Suonio Auteur : H. Kurki-Suonio\t# nombreproductions : 1\n",
      "F. Lacasa Auteur : F. Lacasa\t# nombreproductions : 1\n",
      "R. Laureijs Auteur : R. Laureijs\t# nombreproductions : 1\n",
      "D. Le Mignant Auteur : D. Le Mignant\t# nombreproductions : 1\n",
      "S. Ligori Auteur : S. Ligori\t# nombreproductions : 1\n",
      "P. B. Lilje Auteur : P. B. Lilje\t# nombreproductions : 1\n",
      "I. Lloro Auteur : I. Lloro\t# nombreproductions : 1\n",
      "T. Maciaszek Auteur : T. Maciaszek\t# nombreproductions : 1\n",
      "E. Maiorano Auteur : E. Maiorano\t# nombreproductions : 1\n",
      "O. Marggraf Auteur : O. Marggraf\t# nombreproductions : 1\n",
      "M. Martinelli Auteur : M. Martinelli\t# nombreproductions : 1\n",
      "N. Martinet Auteur : N. Martinet\t# nombreproductions : 1\n",
      "F. Marulli R. Massey Auteur : F. Marulli R. Massey\t# nombreproductions : 1\n",
      "N. Mauri Auteur : N. Mauri\t# nombreproductions : 1\n",
      "E. Medinaceli Auteur : E. Medinaceli\t# nombreproductions : 1\n",
      "S. Mei Auteur : S. Mei\t# nombreproductions : 1\n",
      "Y. Mellier Auteur : Y. Mellier\t# nombreproductions : 1\n",
      "M. Meneghetti Auteur : M. Meneghetti\t# nombreproductions : 1\n",
      "R. B. Metcalf Auteur : R. B. Metcalf\t# nombreproductions : 1\n",
      "M. Moresco Auteur : M. Moresco\t# nombreproductions : 1\n",
      "L. Moscardini Auteur : L. Moscardini\t# nombreproductions : 1\n",
      "E. Munari Auteur : E. Munari\t# nombreproductions : 1\n",
      "C. Neissner Auteur : C. Neissner\t# nombreproductions : 1\n",
      "R. C. Nichol Auteur : R. C. Nichol\t# nombreproductions : 1\n",
      "S. Niemi Auteur : S. Niemi\t# nombreproductions : 1\n",
      "T. Nutma Auteur : T. Nutma\t# nombreproductions : 1\n",
      "C. Padilla Auteur : C. Padilla\t# nombreproductions : 1\n",
      "S. Paltani Auteur : S. Paltani\t# nombreproductions : 1\n",
      "F. Pasian Auteur : F. Pasian\t# nombreproductions : 1\n",
      "V. Pettorino Auteur : V. Pettorino\t# nombreproductions : 1\n",
      "S. Pires Auteur : S. Pires\t# nombreproductions : 1\n",
      "G. Polenta Auteur : G. Polenta\t# nombreproductions : 1\n",
      "A. Pourtsidou Auteur : A. Pourtsidou\t# nombreproductions : 1\n",
      "F. Raison Auteur : F. Raison\t# nombreproductions : 1\n",
      "A. Renzi Auteur : A. Renzi\t# nombreproductions : 1\n",
      "J. Rhodes Auteur : J. Rhodes\t# nombreproductions : 1\n",
      "E. Romelli Auteur : E. Romelli\t# nombreproductions : 1\n",
      "M. Roncarelli Auteur : M. Roncarelli\t# nombreproductions : 1\n",
      "E. Rossetti Auteur : E. Rossetti\t# nombreproductions : 1\n",
      "R. Saglia Auteur : R. Saglia\t# nombreproductions : 1\n",
      "A. G. Sánchez Auteur : A. G. Sánchez\t# nombreproductions : 1\n",
      "D. Sapone Auteur : D. Sapone\t# nombreproductions : 1\n",
      "R. Scaramella Auteur : R. Scaramella\t# nombreproductions : 1\n",
      "P. Schneider Auteur : P. Schneider\t# nombreproductions : 1\n",
      "T. Schrabback Auteur : T. Schrabback\t# nombreproductions : 1\n",
      "V. Scottez Auteur : V. Scottez\t# nombreproductions : 1\n",
      "A. Secroun Auteur : A. Secroun\t# nombreproductions : 1\n",
      "S. Serrano Auteur : S. Serrano\t# nombreproductions : 1\n",
      "C. Sirignano Auteur : C. Sirignano\t# nombreproductions : 1\n",
      "G. Sirri Auteur : G. Sirri\t# nombreproductions : 1\n",
      "L. Stanco Auteur : L. Stanco\t# nombreproductions : 1\n",
      "J. -L. Starck Auteur : J. -L. Starck\t# nombreproductions : 1\n",
      "F. Sureau Auteur : F. Sureau\t# nombreproductions : 1\n",
      "P. Tallada-Crespí Auteur : P. Tallada-Crespí\t# nombreproductions : 1\n",
      "A. Taylor Auteur : A. Taylor\t# nombreproductions : 1\n",
      "M. Tenti Auteur : M. Tenti\t# nombreproductions : 1\n",
      "I. Tereno Auteur : I. Tereno\t# nombreproductions : 1\n",
      "R. Toledo-Moreo Auteur : R. Toledo-Moreo\t# nombreproductions : 1\n",
      "F. Torradeflot Auteur : F. Torradeflot\t# nombreproductions : 1\n",
      "I. Tutusaus Auteur : I. Tutusaus\t# nombreproductions : 1\n",
      "L. Valenziano Auteur : L. Valenziano\t# nombreproductions : 1\n",
      "M. Vannier Auteur : M. Vannier\t# nombreproductions : 1\n",
      "T. Vassallo Auteur : T. Vassallo\t# nombreproductions : 1\n",
      "J. Zoubian Auteur : J. Zoubian\t# nombreproductions : 1\n",
      "E. Zucca Auteur : E. Zucca\t# nombreproductions : 1\n"
     ]
    }
   ],
   "source": [
    "print(corpusi)"
   ]
  },
  {
   "cell_type": "code",
   "execution_count": 10,
   "id": "0027a78e",
   "metadata": {},
   "outputs": [
    {
     "name": "stdout",
     "output_type": "stream",
     "text": [
      "Nombre d'auteur\n"
     ]
    },
    {
     "data": {
      "text/plain": [
       "190"
      ]
     },
     "execution_count": 10,
     "metadata": {},
     "output_type": "execute_result"
    }
   ],
   "source": [
    "print(\"Nombre d'auteur\")\n",
    "corpusi.naut"
   ]
  },
  {
   "cell_type": "code",
   "execution_count": 11,
   "id": "38400e70",
   "metadata": {},
   "outputs": [
    {
     "name": "stdout",
     "output_type": "stream",
     "text": [
      "Nombre d'article\n"
     ]
    },
    {
     "data": {
      "text/plain": [
       "12"
      ]
     },
     "execution_count": 11,
     "metadata": {},
     "output_type": "execute_result"
    }
   ],
   "source": [
    "print(\"Nombre d'article\")\n",
    "corpusi.ndoc"
   ]
  },
  {
   "cell_type": "code",
   "execution_count": 12,
   "id": "9e15b565",
   "metadata": {},
   "outputs": [
    {
     "ename": "AttributeError",
     "evalue": "'Corpus' object has no attribute 'construire_vocabulaire'",
     "output_type": "error",
     "traceback": [
      "\u001b[1;31m---------------------------------------------------------------------------\u001b[0m",
      "\u001b[1;31mAttributeError\u001b[0m                            Traceback (most recent call last)",
      "Cell \u001b[1;32mIn[12], line 6\u001b[0m\n\u001b[0;32m      2\u001b[0m \u001b[38;5;28;01mfrom\u001b[39;00m \u001b[38;5;21;01macquisition\u001b[39;00m \u001b[38;5;28;01mimport\u001b[39;00m scrapper\n\u001b[0;32m      5\u001b[0m a \u001b[38;5;241m=\u001b[39m Corpus\u001b[38;5;241m.\u001b[39mload(\u001b[38;5;124m\"\u001b[39m\u001b[38;5;124mData/corpus.pkl\u001b[39m\u001b[38;5;124m\"\u001b[39m)\n\u001b[1;32m----> 6\u001b[0m voc \u001b[38;5;241m=\u001b[39m \u001b[43ma\u001b[49m\u001b[38;5;241;43m.\u001b[39;49m\u001b[43mconstruire_vocabulaire\u001b[49m()\n\u001b[0;32m      7\u001b[0m \u001b[38;5;66;03m# a.calculer_occurences()\u001b[39;00m\n\u001b[0;32m      8\u001b[0m a\u001b[38;5;241m.\u001b[39mconstruire_mat_TF()\n",
      "\u001b[1;31mAttributeError\u001b[0m: 'Corpus' object has no attribute 'construire_vocabulaire'"
     ]
    }
   ],
   "source": [
    "from Model.Corpus import Corpus\n",
    "from acquisition import scrapper\n",
    "\n",
    "\n",
    "a = Corpus.load(\"Data/corpus.pkl\")\n",
    "# voc = a.construire_vocabulaire()\n",
    "# a.calculer_occurences()\n",
    "a.construire_mat_TF()\n",
    "# # print(type(a))\n",
    "# print(a.concorde(\"Iphone\", 15))\n",
    "print(a.mat_TF)\n",
    "# print(a.id2doc[0].texte)\n",
    "# texte = \"Bonjour, je m'appellé Jean2.\"\n",
    "# print(texte)\n",
    "# texte =Corpus.nettoyer_texte(texte)\n",
    "# print(texte)\n"
   ]
  },
  {
   "cell_type": "code",
   "execution_count": null,
   "id": "0e773b13",
   "metadata": {},
   "outputs": [],
   "source": []
  },
  {
   "cell_type": "code",
   "execution_count": null,
   "id": "867841d9",
   "metadata": {},
   "outputs": [],
   "source": []
  }
 ],
 "metadata": {
  "kernelspec": {
   "display_name": "Python 3 (ipykernel)",
   "language": "python",
   "name": "python3"
  },
  "language_info": {
   "codemirror_mode": {
    "name": "ipython",
    "version": 3
   },
   "file_extension": ".py",
   "mimetype": "text/x-python",
   "name": "python",
   "nbconvert_exporter": "python",
   "pygments_lexer": "ipython3",
   "version": "3.11.7"
  }
 },
 "nbformat": 4,
 "nbformat_minor": 5
}
