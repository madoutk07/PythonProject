{
 "cells": [
  {
   "cell_type": "code",
   "execution_count": 1,
   "id": "4fb9df99",
   "metadata": {},
   "outputs": [
    {
     "data": {
      "application/vnd.jupyter.widget-view+json": {
       "model_id": "627cef634eb04d18aa34a89c619aa929",
       "version_major": 2,
       "version_minor": 0
      },
      "text/plain": [
       "Text(value='', description='Mot-clé')"
      ]
     },
     "metadata": {},
     "output_type": "display_data"
    },
    {
     "data": {
      "application/vnd.jupyter.widget-view+json": {
       "model_id": "2d4907e523e342c99277bc3c1f7ee3c8",
       "version_major": 2,
       "version_minor": 0
      },
      "text/plain": [
       "IntSlider(value=10, description=\"Nombre d'articles\", min=1)"
      ]
     },
     "metadata": {},
     "output_type": "display_data"
    }
   ],
   "source": [
    "import ipywidgets as widgets\n",
    "from IPython.display import display\n",
    "from  acquisition import  scrapper\n",
    "\n",
    "mot_clef_widget = widgets.Text(description=\"Mot-clé\")\n",
    "nb_articles_widget = widgets.IntSlider(min=1, max=100, step=1, value=10, description=\"Nombre d'articles\")\n",
    "\n",
    "display(mot_clef_widget, nb_articles_widget )\n",
    "\n"
   ]
  },
  {
   "cell_type": "code",
   "execution_count": 41,
   "id": "3cc213d1",
   "metadata": {},
   "outputs": [
    {
     "name": "stdout",
     "output_type": "stream",
     "text": [
      "covid\n",
      "ArXiv: 1 / 22\n",
      "ArXiv: 2 / 22\n",
      "ArXiv: 3 / 22\n",
      "ArXiv: 4 / 22\n",
      "ArXiv: 5 / 22\n",
      "ArXiv: 6 / 22\n",
      "ArXiv: 7 / 22\n",
      "ArXiv: 8 / 22\n",
      "ArXiv: 9 / 22\n",
      "ArXiv: 10 / 22\n",
      "ArXiv: 11 / 22\n",
      "ArXiv: 12 / 22\n",
      "ArXiv: 13 / 22\n",
      "ArXiv: 14 / 22\n",
      "ArXiv: 15 / 22\n",
      "ArXiv: 16 / 22\n",
      "ArXiv: 17 / 22\n",
      "ArXiv: 18 / 22\n",
      "ArXiv: 19 / 22\n",
      "ArXiv: 20 / 22\n",
      "ArXiv: 21 / 22\n",
      "ArXiv: 22 / 22\n"
     ]
    }
   ],
   "source": [
    "\n",
    "corpusi = scrapper(mot_clef_widget.value.split(\",\"),nb_articles_widget.value)"
   ]
  },
  {
   "cell_type": "code",
   "execution_count": 42,
   "id": "24b79be3",
   "metadata": {},
   "outputs": [
    {
     "name": "stdout",
     "output_type": "stream",
     "text": [
      "0 Proceedings of the third French-Ukrainian workshop on the  instrumentation developments for HEP, par F. Alessio\tCo-auteurs : ['S. Ya. Barsuk', 'L. Berge', 'O. A. Bezshyyko', 'R. S. Boiko', 'I. Chaikovska', 'M. Chapellier', 'G. Charles', 'A. Chaus', 'R. Chehab', 'D. M. Chernyak', 'N. Coron', 'F. A. Danevich', 'N. Delerue', 'L. Devoyon', 'A. -A. Drillien', 'L. Dumoulin', 'C. Enss', 'O. Fedorchuk', 'A. Fleischmann', 'L. Gastaldo', 'A. Giuliani', 'D. Gray', 'M. Gros', 'S. Herve', 'V. Humbert', 'I. M. Ivanov', 'A. Juillard', 'D. Kharchenko', 'V. Kharchenko', 'V. Khodnevych', 'V. V. Kobychev', 'F. Koskas', 'O. Kovalchuk', 'I. P. Levchuk', 'M. Loidl', 'I. Lysenko', 'P. Magnier', 'E. P. Makarov', 'M. Malovytsia', 'M. Mancuso', 'P. de Marcillac', 'S. Marnieros', 'C. Marrache-Kikuchi', 'V. I. Maslov', 'I. Momot', 'X. -F. Navick', 'C. Nones', 'O. Okhrimenko', 'E. Olivieri', 'I. N. Onishchenko', 'B. Paul', 'Y. Penichot', 'G. Pessina', 'O. Plantevin', 'D. V. Poda', 'Y. Prezado', 'V. Pugatch', 'T. Redon', 'M. Rodrigues', 'A. V. Shchagin', 'V. N. Shlegel', \"N. F. Shul'ga\", \"S. N. Shul'ga\", 'O. Strazzer', 'M. Tenconi', 'M. Titov', 'L. Torres', 'V. I. Tretyak', 'S. V. Trofymenko', 'Ya. V. Vasiliev', 'M. Velazquez', 'O. Viraphong']\n",
      "1 Coherent Dissociation of Relativistic C-9 Nuclei, par D. O. Krivenkov\tCo-auteurs : ['D. A. Artemenkov', 'V. Bradnova', 'S. Voka', 'P. I. Zarubin', 'I. G. Zarubina', 'N. V. Kondratieva', 'A. I. Malakhov', 'A. A. Moiseenko', 'G. I. Orlova', 'N. G. Peresadko', 'N. G. Polukhina', 'P. A. Rukoyatkin', 'V. V. Rusakova', 'V. R. Sarkisyan', 'R. Stanoeva', 'M. Haiduc', 'S. P. Kharlamov']\n",
      "2 Current - voltage characteristics of break junctions of high-$T_c$  superconductors, par D M Gokhfeld\tCo-auteurs : ['D A Balaev', 'K A Shaykhutdinov', 'S I Popkov', 'M I Petrov']\n",
      "3 Status and initial physics performance studies of the MPD experiment at  NICA, par MPD Collaboration\tCo-auteurs : ['V. Abgaryan', 'R. Acevedo Kado', 'S. V. Afanasyev', 'G. N. Agakishiev', 'E. Alpatov', 'G. Altsybeev', 'M. Alvarado Hernández', 'S. V. Andreeva', 'T. V. Andreeva', 'E. V. Andronov', 'N. V. Anfimov', 'A. A. Aparin', 'V. I. Astakhov', 'E. Atkin', 'T. Aushev', 'G. S. Averichev', 'A. V. Averyanov', 'A. Ayala', 'V. A. Babkin', 'T. Babutsidze', 'I. A. Balashov', 'A. Bancer', 'M. Yu. Barabanov', 'D. A. Baranov', 'N. Baranova', 'N. Barbashina', 'A. E. Baskakov', 'P. N. Batyuk', 'A. G. Bazhazhin', 'D. Baznat', 'M. Baznat', 'S. N. Bazylev', 'L. G. E. Beltran', 'A. V. Belyaev', 'S. E. Belyaev', 'E. V. Belyaeva', 'V. Benda', 'M. Bielewicz', 'W. Bietenholz', 'D. Blaschke', 'D. Blau', 'G. Bogdanova', 'D. N. Bogoslovsky', 'I. V. Boguslavsky', 'E. Boos', 'A. Botvina', 'L. Bravina', 'S. A. Bulychjov', 'M. G. Buryakov', 'A. V. Butenko', 'A. V. Butorin', 'S. G. Buzin', 'A. Bychkov', 'A. V. Bychkov', 'R. R. Cabellero', 'D. Chaires Arciniega', 'V. V. Chalyshev', 'W. Chen', 'Z. Chen', 'V. A. Cheplakova', 'V. F. Chepurnov', 'V. V. Chepurnov', 'M. Cheremnova', 'G. A. Cheremukhina', 'L. Chlad', 'P. Chudoba', 'P. V. Chumakov', 'E. Cuautle', 'M. Czarnynoga', 'B. Dabrowska', 'D. Dąbrowski', 'A. Demanov', 'D. V. Dementyev', 'Z. Deng', 'A. V. Dmitriev', 'V. Kh. Dodokhov', 'E. V. Dolbilina', 'A. G. Dolbilov', 'I. Domínguez', 'W. Dominik', 'D. E. Donets', 'V. Dronik', 'A. Yu. Dubrovin', 'A. Dudziński', 'P. Dulov', 'N. V. Dunin', 'V. B. Dunin', 'V. Dyatlov', 'V. F. Dydyshko', 'A. A. Efremov', 'D. S. Egorov', 'V. V. Elsha', 'A. E. Emelyanov', 'N. E. Emelyanov', 'V. G. Ermakova', 'G. Eyyubova', 'D. Fang', 'O. V. Fateev', 'O. Fedin', 'Yu. I. Fedotov', 'A. A. Fedyunin', 'C. Feng', 'S. Feng', 'G. A. Feofilov', 'I. A. Filippov', 'T. Fischer', 'K. Formenko', 'M. A. Gaganova', 'T. T. Gandzhelashvili', 'O. P. Gavrishchuk', 'N. Geraksiev', 'S. E. Gerasimov', 'K. V. Gertsenberger', 'O. Golosov', 'V. M. Golovatyuk', 'M. Golubeva', 'I. Goncharov', 'N. V. Gorbunov', 'M. Grabowski', 'M. Grodzicka-Kobyłka', 'K. Grodzicki', 'J. Grzyb', 'F. Guber', 'A. Guirado', 'A. V. Guskov', 'V. Guzey', 'W. He', 'L. A. Hernández Rosas', 'M. Huang', 'Y. Huang', 'R. Idczak', 'D. Idrisov', 'S. N. Igolkin', 'M. Ilieva', 'A. Yu. Isupov', 'D. Ivanishchev', 'A. V. Ivanov', 'O. Ivanytskyi', 'A. Ivashkin', 'A. Izvestnyy', 'E. Jaworska', 'J. Jiao', 'I. Kadochnikov', 'S. I. Kakurin', 'P. Kankiewicz', 'M. N. Kapishin', 'D. Karmanov', 'N. Karpushkin', 'L. A. Kartashova', 'E. Kashirin', 'G. Kasprowicz', 'Yu. Kasumov', 'A. O. Kechechyan', 'G. D. Kekelidze', 'V. D. Kekelidze', 'A. Khanzadeev', 'P. Kharlamov', 'O. A. Khilinova', 'G. G. Khodzhibagiyan', 'N. Khosravi', 'A. Khvorostukhin', 'Y. Khyzhniak', 'V. Kikvadze', 'V. A. Kireyeu', 'Yu. T. Kiryushin', 'I. S. Kiryutin', 'A. Kisiel', 'A. Klyuev', 'V. Klyukhin', 'L. Kochenda', 'O. Kodolova', 'V. I. Kolesnikov', 'A. Kolozhvari', 'V. G. Komarov', 'V. P. Kondratiev', 'M. Korolev', 'V. Korotkikh', 'D. Kotov', 'S. Kovalenko', 'V. N. Kovalenko', 'S. Kowalski', 'N. A. Kozlenko', 'M. Krakowiak', 'V. A. Kramarenko', 'L. M. Krasnova', 'P. Kravchov', 'Yu. F. Krechetov', 'I. V. Kruglova', 'A. V. Krylov', 'V. Krylov', 'E. Kryshen', 'A. Kryukov', 'A. Kubankin', 'A. Kugler', 'M. Kuich', 'S. I. Kukarnikov', 'S. N. Kuklin', 'V. Kukulin', 'S. Kuleshov', 'E. A. Kulikov', 'V. V. Kulikov', 'A. Kurepin', 'S. Kushpil', 'V. S. Kuzmin', 'J. Kvita', 'D. Lanskoy', 'N. A. Lashmanov', 'M. Ławryńczuk', 'T. V. Lazareva', 'R. Lednicky', 'S. Li', 'Z. Li', 'A. G Litvinenko', 'E. I. Litvinenko', 'G. N. Litvinova', 'D. Liu', 'F. Liu', 'A. N. Livanov', 'V. I. Lobanov', 'Yu. Yu. Lobanov', 'S. P. Lobastov', 'I. Lokhtin', 'P. Lu', 'Yu. R. Lukstinsh', 'B. V. Luong', 'B. Łysakowski', 'Y. Ma', 'A. Machavariani', 'D. T. Madigozhin', 'B. Maksiak', 'V. I. Maksimenkova', 'A. I. Malakhov', 'M. Malayev', 'I. Maldonado', 'J. C. Maldonado', 'I. V. Malikov', 'L. Malinina', 'N. A. Maltsev', 'N. V. Maria', 'M. Shopova', 'M. A. Martemianov', 'M. Maslan', 'M. A. Matsyuk', 'T. Matulewicz', 'D. G. Melnikov', 'M. Merkin', 'S. P. Merts', 'I. N. Meshkov', 'S. Mianowski', 'I. I. Migulina', 'K. R. Mikhaylov', 'M. Milewicz-Zalewska', 'Yu. I. Minaev', 'N. A. Molokanova', 'E. Moreno-Barbosa', 'S. Morozov', 'A. A. Moshkin', 'I. V. Moshkovsky', 'A. E. Moskovsky', 'S. A. Movchan', 'A. A. Mudrokh', 'K. A. Mukhin', 'Yu. A. Murin', \"Zh. Zh. Musul'manbekov\", 'V. V. Myalkovsky', 'D. Myktybekov', 'L. L. Narvaez Paredes', 'D. K. Nauruzbaev', 'E. N. Nazarova', 'A. V. Nechaevsky', 'D. G. Nesterov', 'M. Nie', 'P. A. Nieto-Marín', 'G. Nigmatkulov', 'V. A. Nikitin', 'M. Nioradze', 'X. Niu', 'W. Nowak', 'L. Nozka', 'I. A. Oleks', 'A. G. Olshevsky', 'O. E. Orlov', 'P. Parfenov', 'S. S. Parzhitsky', 'M. E. Patiño', 'V. A. Pavlyukevich', 'V. A. Penkin', 'V. F. Peresedov', 'D. Peresunko', 'D. V. Peshekhonov', 'V. A. Petrov', 'S. Petrushanko', 'O. Petukhov', 'K. Piasecki', 'D. V. Pichugina', 'A. Piloyan', 'A. V. Pilyar', 'S. M. Piyadin', 'S. Plamowski', 'M. Platonova', 'J. Pluta', 'A. E. Potanina', 'Yu. K. Potrebenikov', 'K. Poźniak', 'D. S. Prokhorova', 'N. A. Prokofiev', 'F. Protoklitow', 'A. Prozorov', 'D. Pszczel', 'A. M Puchkov', 'N. Pukhaeva', 'S. Puławski', 'A. R. Rakhmatullina', 'L. F. Rebolledo Herrera', 'V. Z. Reyna-Ortiz', 'V. Riabov', 'Yu. Riabov', 'N. O. Ridinger', 'V. Rikhvitsky', 'M. Rodriguez-Cahuantzi', 'O. V. Rogachevsky', 'V. Yu. Rogov', 'P. Rokita', 'G. Romanenko', 'R. Romaniuk', 'A. Romanova', 'K. Rosłon', 'T. Rossler', 'E. F. Rozas Calderon', 'I. A. Rufanov', 'M. M. Rumyantsev', 'A. Rustamov', 'A. A. Rybakov', 'M. Rybczyński', 'D. Rybka', 'A. A. Rymshina', 'J. Rzadkiewicz', 'Z. Ya. -O. Sadygov', 'V. A. Samsonov', 'V. S. Sandul', 'R. Sattarov', 'A. A. Savenkov', 'K. Schmidt', 'S. S. Seballos', 'S. A. Sedykh', 'I. Selyuzhenkov', 'T. V. Semchukova', 'A. Yu. Semenov', 'I. A. Semenova', 'S. V. Sergeev', 'N. A. Sergeeva', 'E. V. Serochkin', 'A. Yu. Seryakov', 'A. V. Shabunov', 'R. Shanidze', 'L. Shcheglova', 'B. G. Shchinov', 'C. Shen', 'Y. Shen', 'A. N. Sherbakov', 'A. D. Sheremetyev', 'A. I. Sheremetyeva', 'R. A. Shindin', 'A. V. Shipunov', 'M. O. Shitenkov', 'D. K. Shtejer', 'U. Shukla', 'A. A. Shunko', 'A. V. Shutov', 'V. B. Shutov', 'A. O. Sidorin', 'I. Skwira-Chalot', 'I. V. Slepnev', 'V. M. Slepnev', 'I. P. Slepov', 'Yu. A. Solnyshkin', 'A. Solomin', 'T. Solovyeva', 'A. S. Sorin', 'T. Starecki', 'G. Stefanek', 'J. Stepaniak', 'E. A. Streletskaya', 'M. Strikhanov', 'T. A. Strizh', 'A. Strizhak', 'N. V. Sukhov', 'S. I. Sukhovarov', 'X. Sun', 'N. N. Surkov', 'D. Suvarieva', 'V. L. Svalov', 'L. Świderski', 'A. Syntfeld-Każuch', 'T. Szcześniak', 'J. Szewiński', 'Z. Tang', 'A. Taranenko', 'N. A. Tarasov', 'V. Tcholakov', 'G. Tejeda-Muñoz', 'M. E. Tejeda-Yeomans', 'A. V. Terletskiy', 'O. V. Teryaev', 'V. V. Tikhomirov', 'A. A. Timoshenko', 'G. P. Tkachev', 'V. D. Toneev', 'N. D. Topilin', 'T. Traczyk', 'T. Tretyakova', 'A. V. Trubnikov', 'G. V. Trubnikov', 'I. A. Tyapkin', 'S. Yu. Udovenko', 'P. A. Ulloa Poblete', 'M. Urbaniak', 'V. Urumov', 'L. Valenzuela-Cazares', 'F. F. Valiev', 'V. A. Vasendina', 'I. N. Vasiliev', 'A. Vasilyev', 'V. V. Vechernin', 'S. V. Vereshchagin', 'N. N. Vladimirova', 'N. V. Vlasov', 'A. S. Vodopyanov', 'K. Vokhmyanina', 'V. Volkov', 'V. Volkov', 'O. A. Volodina', 'A. A. Voronin', 'V. Voronyuk', 'F. Wang', 'J. Wang', 'X. Wang', 'Y. Wang', 'Y. Wang', 'Y. Wang', 'Y. Wang', 'P. Wieczorek', 'D. Wielanek', 'Z. Włodarczyk', 'K. Wójcik', 'K. Wu', 'Z. Xiao', 'Q. Xu', 'C. Yang', 'H. Yang', 'Q. Yang', 'G. A. Yarygin', 'L. Yordanova', 'T. Yu', 'Z. Yuan', 'V. I. Yurevich', 'W. Zabołotny', 'E. Zabrodin', 'M. V. Zaitseva', 'J. A. Zamora Saa', 'N. I. Zamyatin', 'S. A. Zaporozhets', 'A. K. Zarochentsev', 'C. H. Zepeda-Fernández', 'W. Zha', 'M. Zhalov', 'Y. Zhang', 'Y. Zhang', 'Z. Zhang', 'C. Zhao', 'V. I. Zherebchevsky', 'V. N. Zhezher', 'C. Zhong', 'W. Zhou', 'X. Zhu', 'X. Zhu', 'A. I. Zinchenko', 'D. A. Zinchenko']\n",
      "4 Conceptual design of the Spin Physics Detector, par V. M. Abazov\tCo-auteurs : ['V. Abramov', 'L. G. Afanasyev', 'R. R. Akhunzyanov', 'A. V. Akindinov', 'N. Akopov', 'I. G. Alekseev', 'A. M. Aleshko', 'V. Yu. Alexakhin', 'G. D. Alexeev', 'M. Alexeev', 'A. Amoroso', 'I. V. Anikin', 'V. F. Andreev', 'V. A. Anosov', 'A. B. Arbuzov', 'N. I. Azorskiy', 'A. A. Baldin', 'V. V. Balandina', 'E. G. Baldina', 'M. Yu. Barabanov', 'S. G. Barsov', 'V. A. Baskov', 'A. N. Beloborodov', 'I. N. Belov', 'A. P. Belova', 'A. V. Belyaev', 'A. Ya. Berdnikov', 'Ya. A. Berdnikov', 'A. V. Berezhnoy', 'V. V. Bleko', 'A. V. Bobkov', 'D. N. Bogoslovsky', 'I. N. Boguslavsky', 'E. V. Boltushkin', 'E. E. Boos', 'V. E. Burtsev', 'Lei Chen', 'A. S. Chepurnov', 'M. Chiosso', 'A. Chumakov', 'O. D. Dalkarov', 'A. Datta', 'E. I. Demikhov', 'I. I. Denisenko', 'O. Yu. Denisov', 'V. N. Duginov', 'V. B. Dunin', 'K. Dygnarowicz', 'A. V. Efremov', 'R. El-Kholy', 'D. A. Eliseev', 'T. L. Enik', 'O. L. Fedin', 'G. A. Feofilov', 'Yu. N. Filatov', 'M. Finger', 'M. Finger', 'V. N. Frolov', 'G. Galinski', 'A. S. Galoyan', 'C. E Garsia Trapaga', 'O. P. Gavrishchuk', 'S. G. Gerasimov', 'L. Glonti', 'S. V. Goloskokov', 'G. A. Golovanov', 'A. A. Golubev', 'Golubykh S. M.', 'Goncharov P. V.', 'Grafov N. O.', 'Gribkov D. Y.', 'A. S. Gribovsky', 'A. O. Gridin', 'B. V. Grinyov', 'K. I. Gritsay', 'S. A. Gromov', 'V. A. Gromov', 'Yu. V. Gurchin', 'Yu. V. Gusakov', 'A. V. Guskov', 'F. Guzman', 'J. Haidenbauer', 'M. Havranek', 'A. V. Ivanov', 'N. Ya. Ivanov', 'A. Yu. Isupov', 'V. Jary', 'Shi-Hai Jia', 'D. Jokovic', 'A. Kaplii', 'A. V. Karpishkov', 'E. A. Kasianova', 'G. D. Kekelidze', 'S. V. Khabarov', 'P. R. Kharusov', 'A. N. Khrenov', 'V. T. Kim', 'N. V. Kirichkov', 'D. Yu. Kirin', 'I. Kishchin', 'A. Klekotko', 'Ya. Klopot', 'A. Kluev', 'E. S. Kokoulina', 'V. I. Komarov', 'A. M. Kondratenko', 'M. A. Kondratenko', 'I. Konorov', 'Yu. A. Kopylov', 'M. V. Korjik', 'P. S. Korovkin', 'A. Yu. Korzenev', 'E. V. Kostukov', 'A. Kotzinian', 'A. D. Kovalenko', 'V. N. Kovalenko', 'Kozhin M. A.', 'V. A. Kramarenko', 'V. N. Kruglov', 'A. Kubankin', 'Yu. Kubankin', 'S. Kuleshov', 'V. E. Kovtun', 'A. V. Kulikov', 'V. S. Kurbatov', 'R. Kurjata', 'S. A. Kutuzov', 'E. V. Kuznetsova', 'E. A. Ladygin', 'V. P. Ladygin', 'D. M. Larionova', 'D. Lednicky', 'R. Lednicky', 'Pei-Yu Li', 'Xiao-Mei Li', 'A. S. Lobko', 'E. Luschevskaya', \"A. I. L'vov\", 'V. N. Lyashchenko', 'V. M. Lysan', 'V. Lyubovitskij', 'A. Maggiora', 'V. P. Maleev', 'A. Maltsev', 'T. V. Malykhina', 'A. M. Makankin', 'V. V. Makarenko', 'D. Maletic', 'D. B. Malkevich', 'M. Marcisovsky', 'E. V. Martovitsky', 'J. Marzec', 'M. M. Merkin', 'G. V. Meshcheriakov', 'Yu. M. Mitrankov', 'M. M. Mitrankova', 'E. O. Mitrofanov', 'B. Morozov', 'I. V. Moshkovsky', 'A. Movsisyan', 'S. N. Nagorniy', 'P. Yu. Nechaeva', 'M. A. Nefedov', 'Yu. A. Nefedov', 'M. A. Negodaev', 'G. Neue', 'D. N. Nikiforov', 'V. A. Nikitin', 'A. S. Nikolaev', 'D. A. Oleynik', 'G. A. Ososkov', 'D. Panzieri', 'B. Parsamyan', 'S. S. Parzhitsky', 'G. Pastuszak', 'V. V. Pavlov', 'A. A. Pavlova', 'I. S. Pelevanyuk', 'E. E. Perepelkin', 'D. V. Peshekhonov', 'A. Sh. Petrosyan', 'A. A. Piskun', 'V. V. Plotnikov', 'D. V. Podgainy', 'P. Polozov', 'R. V. Polyakova', 'V. V. Polyansky', 'V. V. Popov', 'J. Popule', 'I. Prochazka', 'I. K. Prokhorov', 'S. N. Reva', 'S. G. Reznikov', 'E. P. Rezvaya', 'J. -M. Richard', 'O. V. Rogachevsky', 'V. M. Romanov', 'A. I. Rudenko', 'M. A. Rumyantsev', 'V. Rusinov', 'N. A. Rybakov', 'A. Rychter', 'A. Rymbekova', 'A. B. Safonov', 'K. M. Salamatin', 'V. A. Saleev', 'A. G. Samartsev', 'A. A. Savenkov', 'M. Savic', 'A. A. Semak', 'V. N. Shaikovsky', 'A. A. Shavrin', 'A. I. Sheremeteva', 'S. S. Shimanskii', 'A. V. Shipilova', 'K. Shtejer', 'R. Shulyakovsky', 'A. A. Sinitsa', 'N. B. Skachkov', 'A. N. Skachkova', 'M. Slunecka', 'V. Sluneckova', 'A. A. Solin', 'A. V. Solin', 'Jin-Xin Song', 'V. V. Sotnikov', 'Peng-Fei Sun', 'S. Yu. Starikova', 'A. V. Stavinskiy', 'E. A. Streletskaya', 'M. Strikman', 'D. Strusik-Kotlozh', 'S. I. Suchkov', 'R. I. Sultanov', 'Hao Sun', 'D. N. Svirida', 'O. G. Tarasov', 'E. I. Tarkovskyi', 'A. Temerbayev', 'A. A. Terekhin', 'Tereschenko V. V.', 'Terkulov A. R.', 'Teryaev O. V.', 'Tishevsky A. V.', 'Tkachenko A. V.', 'A. A. V. V. Tokmenin', 'L. Tomasek', 'E. Tomasi-Gustafsson', 'N. P. Topchiev', 'N. D. Topilin', 'B. L. Topko', 'F. Tosello', 'A. Trifonov', 'Yu. A. Troyan.', 'N. O. Trunov', 'R. Tsenov', 'E. A. Usenko', 'V. V. Uzhinsky', 'Yu. N. Uzikov', 'F. F. Valiev', 'E. V. Vasilieva', 'V. V. Vechernin', 'A. Yu. Verkheev', 'L. S. Vertogradov', 'Yu. L. Vertogradova', 'V. A. Vesenkov', 'M. Virius', 'N. I. Volchansky', 'I. S. Volkov', 'P. V. Volkov', 'A. Vorobiev', 'V. Vrba', 'Qian Wang', 'I. P. Yudin', 'J. Zamora', 'N. I. Zamyatin', 'K. Zaremba', 'A. V. Zelenov', 'E. V. Zemlyanichkina', 'Yun-Yu Zhang', 'Jun-Wei Zhang', 'Ming-Rui Zhao', 'Qiang Zhao', 'Yu Zhi', 'A. S. Zhemchugov', 'A. Zhevlakov', 'N. M. Zhigareva', 'P. N. Zhmurin', 'I. A. Zhukov', 'N. I Zhuravlev.', 'M. Ziembicki', 'A. V. Zinin', 'E. V. Zubarev', 'M. I. Zuev']\n",
      "5 Possible background reductions in double beta decay experiments, par R. Arnold\tCo-auteurs : ['C. Augier', 'J. Baker', 'A. Barabash', 'O. Bing', 'V. Brudanin', 'A. J. Caffrey', 'E. Caurier', 'K. Errahmane', 'A. -I. Etienvre', 'J. L. Guyonnet', 'F. Hubert', 'Ph. Hubert', 'C. Jollet', 'S. Jullian', 'O. Kochetov', 'V. Kovalenko', 'D. Lalanne', 'F. Leccia', 'C. Longuemare', 'Ch. Marquet', 'F. Mauger', 'H. W. Nicholson', 'H. Ohsumi', 'F. Piquemal', 'J-L. Reyss', 'X. Sarazin', 'Yu. Shitov', 'L. Simard', 'I. Stekl', 'J. Suhonen', 'C. S. Sutton', 'G. Szklarz', 'V. Timkin', 'V. Tretyak', 'V. Umatov', 'L. Vala', 'I. Vanyushin', 'V. Vasilyev', 'V. Vorobel', 'Ts. Vylov']\n",
      "6 Fusion Enhancement for Neutron-Rich Light Nuclei, par Varinderjit Singh\tCo-auteurs : ['J. Vadas', 'T. K. Steinbach', 'S. Hudan', 'R. T. deSouza', 'L. T. Baby', 'S. A. Kuvin', 'V. Tripathi', 'I. Wiedenhover']\n",
      "7 First results on the interactions of relativistic $^9$C nuclei in  nuclear track emulsion, par D. O. Krivenkov\tCo-auteurs : ['D. A. Artemenkov', 'V. Bradnova', 'M. Haiduc', 'S. P. Kharlamov', 'V. N. Kondratieva', 'A. I. Malakhov', 'A. A. Moiseenko', 'G. I. Orlova', 'N. G. Peresadko', 'N. G. Polukhina', 'P. A. Rukoyatkin', 'V. V. Rusakova', 'V. R. Sarkisyan', 'R. Stanoeva', 'T. V. Shchedrina', 'S. Vokál', 'P. I. Zarubin', 'I. G. Zarubina']\n",
      "8 Early polarization observations of the optical emission of gamma-ray  bursts: GRB150301B and GRB150413A, par E. S. Gorbovskoy\tCo-auteurs : ['V. M. Lipunov', 'D. Buckley', 'V. G. Kornilov', 'P. V. Balanutsa', 'N. V. Tyurina', 'A. S. Kuznetsov', 'D. A. Kuvshinov', 'I. A. Gorbunov', 'D. Vlasenko', 'E. Popova', 'V. V. Chazov', 'S. Potter', 'M. Kotze', 'A. Kniazev', 'O. A. Gress', 'N. M. Budnev', 'K. I. Ivanov', 'S. A. Yazev', 'A. G. Tlatov', 'V. A. Senik', 'D. V. Dormidontov', 'A. V. Parhomenko', 'V. V. Krushinski', 'I. S. Zalozhnich', 'R. Alberto Castro-Tirado', 'R. Sanchez-Ramrez', 'Yu. P. Sergienko', 'A. Gabovich', 'V. V. Yurkov', 'H. Levato', 'C. Saffe', 'C. Mallamaci', 'C. Lopez', 'F. Podest']\n",
      "9 Exposure of Nuclear Track Emulsion to a Mixed Beam of Relativistic  $^{12}$N, $^{10}$C, and $^7$Be Nuclei, par R. R. Kattabekov\tCo-auteurs : ['K. Z. Mamatkulov', 'D. A. Artemenkov', 'V. Bradnova', 'D. M. Zhomurodov', 'M. Haiduc', 'S. P. Kharlamov', 'V. N. Kondratieva', 'D. O. Krivenkov', 'A. I. Malakhov', 'G. I. Orlova', 'N. G. Peresadko', 'Z. A. Igamkulov', 'N. G. Polukhina', 'P. A. Rukoyatkin', 'V. V. Rusakova', 'R. Stanoeva', 'S. Vokal', 'P. I. Zarubin', 'I. G. Zarubina']\n",
      "10 Measurement of Meson Resonance Production in $π^{-} + $C Interactions  at SPS energies, par A. Aduszkiewicz\tCo-auteurs : ['Y. Ali', 'E. V. Andronov', 'T. Antićić', 'B. Baatar', 'M. Baszczyk', 'S. Bhosale', 'A. Blondel', 'M. Bogomilov', 'A. Brandin', 'A. Bravar', 'J. Brzychczyk', 'S. A. Bunyatov', 'O. Busygina', 'H. Cherif', 'M. Ćirković', 'T. Czopowicz', 'A. Damyanova', 'N. Davis', 'H. Dembinski', 'M. Deveaux', 'W. Dominik', 'P. Dorosz', 'J. Dumarchez', 'R. Engel', 'A. Ereditato', 'S. Faas', 'G. A. Feofilov', 'Z. Fodor', 'C. Francois', 'A. Garibov', 'X. Garrido', 'M. Gaździcki', 'M. Golubeva', 'K. Grebieszkow', 'F. Guber', 'A. Haesler', 'A. E. Hervé', 'J. Hylen', 'S. N. Igolkin', 'A. Ivashkin', 'S. R. Johnson', 'K. Kadija', 'E. Kaptur', 'M. Kiełbowicz', 'V. A. Kireyeu', 'V. Klochkov', 'V. I. Kolesnikov', 'D. Kolev', 'A. Korzenev', 'V. N. Kovalenko', 'K. Kowalik', 'S. Kowalski', 'M. Koziel', 'A. Krasnoperov', 'W. Kucewicz', 'M. Kuich', 'A. Kurepin', 'D. Larsen', 'A. László', 'T. V. Lazareva', 'M. Lewicki', 'B. Lundberg', 'B. Łysakowski', 'V. V. Lyubushkin', 'M. Maćkowiak-Pawłowska', 'B. Maksiak', 'A. I. Malakhov', 'D. Manić', 'A. Marchionni', 'A. Marcinek', 'A. D. Marino', 'I. C. Mariş', 'K. Marton', 'H. -J. Mathes', 'T. Matulewicz', 'V. Matveev', 'G. L. Melkumov', 'A. O. Merzlaya', 'B. Messerly', 'Ł. Mik', 'G. B. Mills', 'S. Morozov', 'S. Mrówczyński', 'Y. Nagai', 'M. Naskręt', 'V. Ozvenchuk', 'V. Paolone', 'M. Pavin', 'O. Petukhov', 'C. Pistillo', 'R. Płaneta', 'P. Podlaski', 'B. A. Popov', 'M. Posiadała', 'S. Puławski', 'J. Puzović', 'R. Rameika', 'W. Rauch', 'M. Ravonel', 'R. Renfordt', 'E. Richter-Wąs', 'D. Röhrich', 'E. Rondio', 'M. Roth', 'M. Ruprecht', 'B. T. Rumberger', 'A. Rustamov', 'M. Rybczynski', 'A. Rybicki', 'A. Sadovsky', 'K. Schmidt', 'I. Selyuzhenkov', 'A. Yu. Seryakov', 'P. Seyboth', 'M. Słodkowski', 'A. Snoch', 'P. Staszel', 'G. Stefanek', 'J. Stepaniak', 'M. Strikhanov', 'H. Ströbele', 'T. Šuša', 'M. Szuba', 'A. Taranenko', 'A. Tefelska', 'D. Tefelski', 'V. Tereshchenko', 'A. Toia', 'R. Tsenov', 'L. Turko', 'R. Ulrich', 'M. Unger', 'F. F. Valiev', 'D. Veberič', 'V. V. Vechernin', 'M. Walewski', 'A. Wickremasinghe', 'C. Wilkinson', 'Z. Włodarczyk', 'A. Wojtaszek-Szwarc', 'O. Wyszyński', 'L. Zambelli', 'E. D. Zimmerman', 'R. Zwaska']\n",
      "11 Study of the decay $K^{+}\\toπ^{+}π^{-}π^{+}γ$ in the OKA  experiment, par M. M. Shapkin\tCo-auteurs : ['S. A. Akimenko', 'A. V. Artamonov', 'A. M. Blik', 'V. S. Burtovoy', 'S. V. Donskov', 'A. P. Filin', 'A. V. Inyakin', 'A. M. Gorin', 'G. V. Khaustov', 'S. A. Kholodenko', 'V. N. Kolosov', 'A. S. Konstantinov', 'V. F. Kurshetsov', 'V. A. Lishin', 'M. V. Medynsky', 'Yu. V. Mikhailov', 'V. F. Obraztsov', 'V. A. Polyakov', 'A. V. Popov', 'V. I. Romanovsky', 'V. I. Rykalin', 'A. S. Sadovsky', 'V. D. Samoilenko', 'V. K. Semenov', 'O. V. Stenyakin', 'O. G. Tchikilev', 'V. A. Uvarov', 'O. P. Yushchenko', 'V. A. Duk', 'S. N. Filippov', 'E. N. Guschin', 'A. A. Khudyakov', 'V. I. Kravtsov', 'Yu. G. Kudenko', 'A. Yu. Polyarush', 'V. N. Bychkov', 'G. D. Kekelidze', 'V. M. Lysan', 'B. Zh. Zalikhanov']\n",
      "12 Fine-Grained I/O Complexity via Reductions: New lower bounds, faster  algorithms, and a time hierarchy, par Erik D. Demaine\tCo-auteurs : ['Andrea Lincoln', 'Quanquan C. Liu', 'Jayson Lynch', 'Virginia Vassilevska Williams']\n",
      "13 Measurements of production and inelastic cross sections for  $\\mbox{p}+\\mbox{C}$, $\\mbox{p}+\\mbox{Be}$, and $\\mbox{p}+\\mbox{Al}$ at 60  GeV/$c$ and $\\mbox{p}+\\mbox{C}$ and $\\mbox{p}+\\mbox{Be}$ at 120 GeV/$c$, par NA61/SHINE Collaboration\tCo-auteurs : [':', 'A. Aduszkiewicz', 'E. V. Andronov', 'T. Antićić', 'V. Babkin', 'M. Baszczyk', 'S. Bhosale', 'A. Blondel', 'M. Bogomilov', 'A. Brandin', 'A. Bravar', 'W. Bryliński', 'J. Brzychczyk', 'M. Buryakov', 'O. Busygina', 'A. Bzdak', 'H. Cherif', 'M. Ćirković', 'M. Csanad', 'J. Cybowska', 'T. Czopowicz', 'A. Damyanova', 'N. Davis', 'M. Deliyergiyev', 'M. Deveaux', 'A. Dmitriev', 'W. Dominik', 'P. Dorosz', 'J. Dumarchez', 'R. Engel', 'G. A. Feofilov', 'L. Fields', 'Z. Fodor', 'A. Garibov', 'M. Gaździcki', 'O. Golosov', 'M. Golubeva', 'K. Grebieszkow', 'F. Guber', 'A. Haesler', 'S. N. Igolkin', 'S. Ilieva', 'A. Ivashkin', 'S. R. Johnson', 'K. Kadija', 'E. Kaptur', 'N. Kargin', 'E. Kashirin', 'M. Kiełbowicz', 'V. A. Kireyeu', 'V. Klochkov', 'V. I. Kolesnikov', 'D. Kolev', 'A. Korzenev', 'V. N. Kovalenko', 'K. Kowalik', 'S. Kowalski', 'M. Koziel', 'A. Krasnoperov', 'W. Kucewicz', 'M. Kuich', 'A. Kurepin', 'D. Larsen', 'A. László', 'T. V. Lazareva', 'M. Lewicki', 'K. Łojek', 'B. Łysakowski', 'V. V. Lyubushkin', 'M. Maćkowiak-Pawłowska', 'Z. Majka', 'B. Maksiak', 'A. I. Malakhov', 'A. Marchionni', 'A. Marcinek', 'A. D. Marino', 'K. Marton', 'H. -J. Mathes', 'T. Matulewicz', 'V. Matveev', 'G. L. Melkumov', 'A. O. Merzlaya', 'B. Messerly', 'Ł. Mik', 'G. B. Mills', 'S. Morozov', 'S. Mrówczyński', 'Y. Nagai', 'M. Naskręt', 'V. Ozvenchuk', 'V. Paolone', 'M. Pavin', 'O. Petukhov', 'R. Płaneta', 'P. Podlaski', 'B. A. Popov', 'B. Porfy', 'M. Posiadała-Zezula', 'D. S. Prokhorova', 'D. Pszczel', 'S. Puławski', 'J. Puzović', 'M. Ravonel', 'R. Renfordt', 'E. Richter-Wąs', 'D. Röhrich', 'E. Rondio', 'M. Roth', 'B. T. Rumberger', 'M. Rumyantsev', 'A. Rustamov', 'M. Rybczynski', 'A. Rybicki', 'A. Sadovsky', 'K. Schmidt', 'I. Selyuzhenkov', 'A. Yu. Seryakov', 'P. Seyboth', 'M. Słodkowski', 'A. Snoch', 'P. Staszel', 'G. Stefanek', 'J. Stepaniak', 'M. Strikhanov', 'H. Ströbele', 'T. Šuša', 'A. Taranenko', 'A. Tefelska', 'D. Tefelski', 'V. Tereshchenko', 'A. Toia', 'R. Tsenov', 'L. Turko', 'R. Ulrich', 'M. Unger', 'F. F. Valiev', 'D. Veberič', 'V. V. Vechernin', 'A. Wickremasinghe', 'Z. Włodarczyk', 'A. Wojtaszek-Szwarc', 'K. Wójcik', 'O. Wyszyński', 'L. Zambelli', 'E. D. Zimmerman', 'R. Zwaska']\n",
      "14 Search for heavy neutrino in $K^{+} \\to μ^{+} ν_{H}$ decay, par A. S. Sadovsky\tCo-auteurs : ['V. F. Kurshetsov', 'A. P. Filin', 'S. A. Akimenko', 'A. V. Artamonov', 'A. M. Blik', 'V. V. Brekhovskikh', 'V. S. Burtovoy', 'S. V. Donskov', 'A. V. Inyakin', 'A. M. Gorin', 'G. V. Khaustov', 'S. A. Kholodenko', 'V. N. Kolosov', 'A. S. Konstantinov', 'V. M. Leontiev', 'V. A. Lishin', 'M. V. Medynsky', 'Yu. V. Mikhailov', 'V. F. Obraztsov', 'V. A. Polyakov', 'A. V. Popov', 'V. I. Romanovsky', 'V. I. Rykalin', 'V. D. Samoilenko', 'V. K. Semenov', 'O. V. Stenyakin', 'O. G. Tchikilev', 'V. A. Uvarov', 'O. P. Yushchenko', 'V. A. Duk', 'S. N. Filippov', 'E. N. Gushchin', 'A. A. Khudyakov', 'V. I. Kravtsov', 'Yu. G. Kudenko', 'A. Yu. Polyarush', 'V. N. Bychkov', 'G. D. Kekelidze', 'V. M. Lysan', 'B. Zh. Zalikhanov']\n",
      "15 Hall A Annual Report 2012, par S. Riordan\tCo-auteurs : ['C. Keppel', 'K. Aniol', 'J. Annand', 'J. Arrington', 'T. Averett', 'C. Ayerbe Gayoso', 'E. Brash', 'G. D. Cates', 'J. -P. Chen', 'E. Chudakov', 'D. Flay', 'G. B. Franklin', 'M. Friedman', 'O. Glamazdin', 'J. Gomez', 'C. Hanretty', 'J. -O. Hansen', 'C. Hyde', 'M. K. Jones', 'I. Korover', 'J. J. LeRose', 'R. A. Lindgren', 'N. Liyanage', 'E. Long', 'V. Mamyan', 'M. Mihovilovic', 'N. Muangma', 'S. Nanda', 'D. Parno', 'C. F. Perdrisat', 'R. Pomatsalyuk', 'M. Posik', 'V. Punjabi', 'G. Rosner', 'J. Sj\\x7fogren', 'S. Sirca', 'L. C. Smith', 'P. Solvignon', 'N. F. Sparveris', 'V. Sulkosky', 'V. Vereshchaka', 'B. Wojtsekhowski', 'Z. Ye', 'J. Zhang', 'Y. W. Zhang', 'X. Zheng', 'R. Zielinski', 'the Hall A Collaboration']\n",
      "16 $K^{0}_{S}$ meson production in inelastic $\\textit{p+p}$ interactions at  158 GeV/c beam momentum measured by NA61/SHINE at the CERN SPS, par A. Acharya\tCo-auteurs : ['H. Adhikary', 'K. K. Allison', 'N. Amin', 'E. V. Andronov', 'T. Antičić', 'V. Babkin', 'M. Baszczyk', 'S. Bhosale', 'A. Blonde', 'M. Bogomilov', 'Y. Bondar', 'A. Brandin', 'A. Bravar', 'W. Brylinski', 'J. Brzychczyk', 'M. Buryakov', 'O. Busygina', 'A. Bzdak', 'H. Cherif', 'M. Ćirković', 'M. Csanad', 'J. Cybowska', 'T. Czopowicz', 'A. Damyanova', 'N. Davis', 'M. Deliyergiyev', 'M. Deveaux', 'A. Dmitriev', 'W. Dominik', 'P. Dorosz', 'J. Dumarchez', 'R. Enge', 'G. A. Feofilov', 'L. Fields', 'Z. Fodor', 'A. Garibov', 'M. Gazdzicki', 'O. Golosov', 'V. Golovatyuk', 'M. Golubeva', 'K. Grebieszkow', 'F. Guber', 'A. Haesler', 'S. N. Igolkin', 'S. Ilieva', 'A. Ivashkin', 'S. R. Johnson', 'K. Kadija', 'N. Kargin', 'E. Kashirin', 'M. Kiełbowicz', 'V. A. Kireyeu', 'V. Klochkov', 'V. I. Kolesnikov', 'D. Kolev', 'A. Korzenev', 'V. N. Kovalenko', 'S. Kowalski', 'M. Kozie', 'B. Kozłowski', 'A. Krasnoperov', 'W. Kucewicz', 'M. Kuich', 'A. Kurepin', 'D. Larsen', 'A. László', 'T. V. Lazareva', 'M. Lewicki', 'K. Łojek', 'V. V. Lyubushkin', 'M. Mackowiak-Pawłowska', 'Z. Majka', 'B. Maksiak', 'A. I. Malakhov', 'A. Marcinek', 'A. D. Marino', 'K. Marton', 'H. -J. Mathes', 'T. Matulewicz', 'V. Matveev', 'G. L. Melkumov', 'A. O. Merzlaya', 'B. Messerly', 'Ł. Mik', 'S. Morozov', 'Y. Nagai', 'M. Naskret', 'V. Ozvenchuk', 'O. Panova', 'V. Paolone', 'O. Petukhov', 'I. Pidhurskyi', 'R. Płaneta', 'P. Podlaski', 'B. A. Popov', 'B. Porfy', 'M. Posiadała-Zezula', 'D. S. Prokhorova', 'D. Pszczel', 'S. Puławski', 'J. Puzović', 'M. Ravonel', 'R. Renfordt', 'D. Röhrich', 'E. Rondio', 'B. T. Rumberger', 'M. Rumyantsev', 'A. Rustamov', 'M. Rybczynski', 'A. Rybicki', 'S. Sadhu', 'A. Sadovsky', 'K. Schmidt', 'I. Selyuzhenkov', 'A. Yu. Seryakov', 'P. Seyboth', 'M. Słodkowski', 'P. Staszel', 'G. Stefanek', 'J. Stepaniak', 'M. Strikhanov', 'H. Ströbele', 'T. Šuša', 'A. Taranenko', 'A. Tefelska', 'D. Tefelski', 'V. Tereshchenko', 'A. Toia', 'R. Tsenov', 'L. Turko', 'M. Unger', 'D. Uzhva', 'F. F. Valiev', 'D. Veberič', 'V. V. Vechernin', 'A. Wickremasinghe', 'K. Wójcik', 'O. Wyszynski', 'A. Zaitsev', 'E. D. Zimmerman', 'R. Zwaska']\n",
      "17 Correlated pion-proton pair emission off hot and dense QCD matter, par J. Adamczewski-Musch\tCo-auteurs : ['O. Arnold', 'C. Behnke', 'A. Belounnas', 'A. Belyaev', 'J. C. Berger-Chen', 'A. Blanco', 'C. Blume', 'M. B\"ohmer', 'P. Bordalo', 'S. Chernenko', 'L. Chlad', 'I. Ciepal', 'C. Deveaux', 'J. Dreyer', 'E. Epple', 'L. Fabbietti', 'O. Fateev', 'P. Filip', 'P. Fonte', 'C. Franco', 'J. Friese', 'I. Fr\"ohlich', 'T. Galatyuk', 'J. A. Garzon', 'R. Gernh\"auser', 'M. Golubeva', 'R. Greifenhagen', 'F. Guber', 'M. Gumberidze', 'S. Harabasz', 'T. Heinz', 'T. Hennino', 'S. Hlavac', 'C. H\"ohne', 'R. Holzmann', 'A. Ierusalimov', 'A. Ivashkin', 'B. K\"ampfer', 'T. Karavicheva', 'B. Kardan', 'I. Koenig', 'W. Koenig', 'M. Kohls', 'B. W. Kolb', 'G. Korcyl', 'G. Kornakov', 'F. Kornas', 'R. Kotte', 'A. Kugler', 'T. Kunz', 'A. Kurepin', 'A. Kurilkin', 'P. Kurilkin', 'V. Ladygin', 'R. Lalik', 'K. Lapidus', 'A. Lebedev', 'L. Lopes', 'M. Lorenz', 'T. Mahmoud', 'L. Maier', 'A. Malige', 'A. Mangiarotti', 'J. Markert', 'T. Matulewicz', 'S. Maurus', 'V. Metag', 'J. Michel', 'D. M. Mihaylov', 'S. Morozov', 'C. M\"untz', 'R. M\"unzer', 'L. Naumann', 'K. Nowakowski', 'Y. Parpottas', 'V. Pechenov', 'O. Pechenova', 'O. Petukhov', 'K. Piasecki', 'J. Pietraszko', 'W. Przygoda', 'K. Pysz', 'S. Ramos', 'B. Ramstein', 'N. Rathod', 'A. Reshetin', 'P. Rodriguez-Ramos', 'P. Rosier', 'A. Rost', 'A. Sadovsky', 'P. Salabura', 'T. Scheib', 'H. Schuldes', 'E. Schwab', 'F. Scozzi', 'F. Seck', 'P. Sellheim', 'I. Selyuzhenkov', 'J. Siebenson', 'L. Silva', 'U. Singh', 'J. Smyrski', 'Yu. G. Sobolev', 'S. Spataro', 'S. Spies', 'H. Str\"obele', 'J. Stroth', 'C. Sturm', 'O. Svoboda', 'M. Szala', 'P. Tlusty', 'M. Traxler', 'H. Tsertos', 'E. Usenko', 'V. Wagner', 'C. Wendisch', 'M. G. Wiebusch', 'J. Wirth', 'D. Wojcik', 'Y. Zanevsky', 'P. Zumbruch']\n",
      "18 Unperturbed inverse kinematics nucleon knockout measurements with a 48  GeV/c carbon beam, par M. Patsyuk\tCo-auteurs : ['J. Kahlbow', 'G. Laskaris', 'M. Duer', 'V. Lenivenko', 'E. P. Segarra', 'T. Atovullaev', 'G. Johansson', 'T. Aumann', 'A. Corsi', 'O. Hen', 'M. Kapishin', 'V. Panin', 'E. Piasetzky', 'Kh. Abraamyan', 'S. Afanasiev', 'G. Agakishiev', 'P. Alekseev', 'E. Atkin', 'T. Aushev', 'V. Babkin', 'V. Balandin', 'D. Baranov', 'N. Barbashina', 'P. Batyuk', 'S. Bazylev', 'A. Beck', 'C. A. Bertulani', 'D. Blaschke', 'D. Blau', 'D. Bogoslovsky', 'A. Bolozdynya', 'K. Boretzky', 'V. Burtsev', 'M. Buryakov', 'S. Buzin', 'A. Chebotov', 'J. Chen', 'A. Ciszewski', 'R. Cruz-Torres', 'B. Dabrowska', 'D. Dabrowski A. Dmitriev', 'A. Dryablov', 'P. Dulov', 'D. Egorov', 'A. Fediunin', 'I. Filippov', 'K. Filippov', 'D. Finogeev', 'I. Gabdrakhmanov', 'A. Galavanov', 'I. Gasparic', 'O. Gavrischuk', 'K. Gertsenberger', 'A. Gillibert', 'V. Golovatyuk', 'M. Golubeva', 'F. Guber', 'Yu. Ivanova', 'A. Ivashkin', 'A. Izvestnyy', 'S. Kakurin', 'V. Karjavin', 'N. Karpushkin', 'R. Kattabekov', 'V. Kekelidze', 'S. Khabarov', 'Yu. Kiryushin', 'A. Kisiel', 'V. Kolesnikov', 'A. Kolozhvari', 'Yu. Kopylov', 'I. Korover', 'L. Kovachev', 'A. Kovalenko', 'Yu. Kovalev', 'A. Kugler', 'S. Kuklin', 'E. Kulish', 'A. Kuznetsov', 'E. Ladygin', 'N. Lashmanov', 'E. Litvinenko', 'S. Lobastov', 'B. Loher', 'Y. -G. Ma', 'A. Makankin', 'A. Maksymchyuk', 'A. Malakhov', 'I. Mardor', 'S. Merts', 'A. Morozov', 'S. Morozov', 'G. Musulmanbekov', 'R. Nagdasev', 'D. Nikitin', 'V. Palchik', 'D. Peresunko', 'M. Peryt', 'O. Petukhov', 'Yu. Petukhov', 'S. Piyadin', 'V. Plotnikov', 'G. Pokatashkin', 'Yu. Potrebenikov', 'O. Rogachevsky', 'V. Rogov', 'K. Roslon', 'D. Rossi', 'I. Rufanov', 'P. Rukoyatkin', 'M. Rumyantsev', 'D. Sakulin', 'V. Samsonov', 'H. Scheit', 'A. Schmidt', 'S. Sedykh', 'I. Selyuzhenkov', 'P. Senger', 'S. Sergeev', 'A. Shchipunov', 'A. Sheremeteva', 'M. Shitenkov', 'V. Shumikhin', 'A. Shutov', 'V. Shutov', 'H. Simon', 'I. Slepnev', 'V. Slepnev', 'I. Slepov', 'A. Sorin', 'V. Sosnovtsev', 'V. Spaskov', 'T. Starecki', 'A. Stavinskiy', 'E. Streletskaya', 'O. Streltsova', 'M. Strikhanov', 'N. Sukhov', 'D. Suvarieva', 'J. Tanaka', 'A. Taranenko', 'N. Tarasov', 'O. Tarasov', 'V. Tarasov', 'A. Terletsky', 'O. Teryaev', 'V. Tcholakov', 'V. Tikhomirov', 'A. Timoshenko', 'N. Topilin', 'B. Topko', 'H. Tornqvist', 'I. Tyapkin', 'V. Vasendina', 'A. Vishnevsky', 'N. Voytishin', 'V. Wagner', 'O. Warmusz', 'I. Yaron', 'V. Yurevich', 'N. Zamiatin', 'Song Zhang', 'E. Zherebtsova', 'V. Zhezher', 'N. Zhigareva', 'A. Zinchenko', 'E. Zubarev', 'M. Zuev']\n",
      "19 First measurement of the circular beam asymmetry in the gamma p --> pi0  eta p reaction, par V. L. Kashevarov\tCo-auteurs : ['A. Fix', 'P. Aguar-Bartolomé', 'L. K. Akasoy', 'J. R. M. Annand', 'H. J. Arends', 'K. Bantawa', 'R. Beck', 'V. Bekrenev', 'H. Berghäuser', 'A. Braghieri', 'D. Branford', 'W. J. Briscoe', 'J. Brudvik', 'S. Cherepnya', 'R. F. B. Codling', 'B. T. Demissie', 'E. J. Downie', 'P. Drexler', \"L. V. Fil'kov\", 'D. I. Glazier', 'R. Gregor', 'D. Hamilton', 'E. Heid', 'D. Hornidge', 'I. Jaegle', 'O. Jahn', 'T. C. Jude', 'J. D. Kellie', 'I. Keshelashvili', 'R. Kondratiev', 'M. Korolija', 'M. Kotulla', 'A. Koulbardis', 'S. Kruglov', 'B. Krusche', 'V. Lisin', 'K. Livingston', 'I. J. D. MacGregor', 'Y. Maghrbi', 'D. M. Manley', 'M. Martinez-Fabregate', 'J. C. McGeorge', 'E. F. McNicoll', 'D. Mekterovic', 'V. Metag', 'S. Micanovic', 'D. Middleton', 'A. Mushkarenkov', 'B. M. K. Nefkens', 'A. Nikolaev', 'R. Novotny', 'M. Ostrick', 'P. B. Otte', 'B. Oussena', 'P. Pedroni', 'F. Pheron', 'A. Polonski', 'S. N. Prakhov', 'J. Robinson', 'G. Rosner', 'T. Rostomyan', 'S. Schumann', 'M. H. Sikora', 'D. Sober', 'A. Starostin', 'I. I. Stakovsky', 'I. M. Suarez', 'I. Supek', 'C. Tarbert', 'M. Thiel', 'A. Thomas', 'M. Unverzagt', 'D. P. Watts', 'D. Werthmüller', 'I. Zamboni', 'F. Zehr.']\n",
      "20 Results on $ββ$ decay with emission of two neutrinos or Majorons  in $^{76}$Ge from GERDA Phase I, par M. Agostini\tCo-auteurs : ['M. Allardt', 'A. M. Bakalyarov', 'M. Balata', 'I. Barabanov', 'N. Barros', 'L. Baudis', 'C. Bauer', 'N. Becerici-Schmidt', 'E. Bellotti', 'S. Belogurov', 'S. T. Belyaev', 'G. Benato', 'A. Bettini', 'L. Bezrukov', 'T. Bode', 'D. Borowicz', 'V. Brudanin', 'R. Brugnera', 'D. Budjáš', 'A. Caldwell', 'C. Cattadori', 'A. Chernogorov', \"V. D'Andrea\", 'E. V. Demidova', 'A. di Vacri', 'A. Domula', 'E. Doroshkevich', 'V. Egorov', 'R. Falkenstein', 'O. Fedorova', 'K. Freund', 'N. Frodyma', 'A. Gangapshev', 'A. Garfagnini', 'P. Grabmayr', 'V. Gurentsov', 'K. Gusev', 'A. Hegai', 'M. Heisel', 'S. Hemmer', 'G. Heusser', 'W. Hofmann', 'M. Hult', 'L. V. Inzhechik', 'J. Janicskó Csáthy', 'J. Jochum', 'M. Junker', 'V. Kazalov', 'T. Kihm', 'I. V. Kirpichnikov', 'A. Kirsch', 'A. Klimenko', 'K. T. Knöpfle', 'O. Kochetov', 'V. N. Kornoukhov', 'V. V. Kuzminov', 'M. Laubenstein', 'A. Lazzaro', 'V. I. Lebedev', 'B. Lehnert', 'H. Y. Liao', 'M. Lindner', 'I. Lippi', 'A. Lubashevskiy', 'B. Lubsandorzhiev', 'G. Lutter', 'C. Macolino', 'B. Majorovits', 'W. Maneschg', 'E. Medinaceli', 'M. Misiaszek', 'P. Moseev', 'I. Nemchenok', 'D. Palioselitis', 'K. Panas', 'L. Pandola', 'K. Pelczar', 'A. Pullia', 'S. Riboldi', 'N. Rumyantseva', 'C. Sada', 'M. Salathe', 'C. Schmitt', 'J. Schreiner', 'O. Schulz', 'B. Schwingenheuer', 'S. Schönert', 'O. Selivanenko', 'M. Shirchenko', 'H. Simgen', 'A. Smolnikov', 'L. Stanco', 'M. Stepaniuk', 'C. A. Ur', 'L. Vanhoefer', 'A. A. Vasenko', 'A. Veresnikova', 'K. von Sturm', 'V. Wagner', 'M. Walter', 'A. Wegmann', 'T. Wester', 'H. Wilsenach', 'M. Wojcik', 'E. Yanovich', 'P. Zavarise', 'I. Zhitnikov', 'S. V. Zhukov', 'D. Zinatulina', 'K. Zuber', 'G. Zuzel']\n",
      "21 Improvement of the Energy Resolution via an Optimized Digital Signal  Processing in GERDA Phase I, par M. Agostini\tCo-auteurs : ['M. Allardt', 'A. M. Bakalyarov', 'M. Balata', 'I. Barabanov', 'N. Barros', 'L. Baudis', 'C. Bauer', 'N. Becerici-Schmidt', 'E. Bellotti', 'S. Belogurov', 'S. T. Belyaev', 'G. Benato', 'A. Bettini', 'L. Bezrukov', 'T. Bode', 'D. Borowicz', 'V. Brudanin', 'R. Brugnera', 'D. Budjáš', 'A. Caldwell', 'C. Cattadori', 'A. Chernogorov', \"V. D'Andrea\", 'E. V. Demidova', 'A. di Vacri', 'A. Domula', 'E. Doroshkevich', 'V. Egorov', 'R. Falkenstein', 'O. Fedorova', 'K. Freund', 'N. Frodyma', 'A. Gangapshev', 'A. Garfagnini', 'P. Grabmayr', 'V. Gurentsov', 'K. Gusev', 'A. Hegai', 'M. Heisel', 'S. Hemmer', 'G. Heusser', 'W. Hofmann', 'M. Hult', 'L. V. Inzhechik', 'J. Janicskó Csáthy', 'J. Jochum', 'M. Junker', 'V. Kazalov', 'T. Kihm', 'I. V. Kirpichnikov', 'A. Kirsch', 'A. Klimenko', 'K. T. Knöpfle', 'O. Kochetov', 'V. N. Kornoukhov', 'V. V. Kuzminov', 'M. Laubenstein', 'A. Lazzaro', 'V. I. Lebedev', 'B. Lehnert', 'H. Y. Liao', 'M. Lindner', 'I. Lippi', 'A. Lubashevskiy', 'B. Lubsandorzhiev', 'G. Lutter', 'C. Macolino', 'B. Majorovits', 'W. Maneschg', 'E. Medinaceli', 'M. Misiaszek', 'P. Moseev', 'I. Nemchenok', 'D. Palioselitis', 'K. Panas', 'L. Pandola', 'K. Pelczar', 'A. Pullia', 'S. Riboldi', 'N. Rumyantseva', 'C. Sada', 'M. Salathe', 'C. Schmitt', 'B. Schneider', 'S. Schönert', 'J. Schreiner', 'A. -K. Schütz', 'O. Schulz', 'B. Schwingenheuer', 'O. Selivanenko', 'M. Shirchenko', 'H. Simgen', 'A. Smolnikov', 'L. Stanco', 'M. Stepaniuk', 'C. A. Ur', 'L. Vanhoefer', 'A. A. Vasenko', 'A. Veresnikova', 'K. von Sturm', 'V. Wagner', 'M. Walter', 'A. Wegmann', 'T. Wester', 'H. Wilsenach', 'M. Wojcik', 'E. Yanovich', 'P. Zavarise', 'I. Zhitnikov', 'S. V. Zhukov', 'D. Zinatulina', 'K. Zuber', 'G. Zuzel']F. Alessio Auteur : F. Alessio\t# nombreproductions : 1\n",
      "D. O. Krivenkov Auteur : D. O. Krivenkov\t# nombreproductions : 2\n",
      "D M Gokhfeld Auteur : D M Gokhfeld\t# nombreproductions : 1\n",
      "MPD Collaboration Auteur : MPD Collaboration\t# nombreproductions : 1\n",
      "V. M. Abazov Auteur : V. M. Abazov\t# nombreproductions : 1\n",
      "R. Arnold Auteur : R. Arnold\t# nombreproductions : 1\n",
      "Varinderjit Singh Auteur : Varinderjit Singh\t# nombreproductions : 1\n",
      "E. S. Gorbovskoy Auteur : E. S. Gorbovskoy\t# nombreproductions : 1\n",
      "R. R. Kattabekov Auteur : R. R. Kattabekov\t# nombreproductions : 1\n",
      "A. Aduszkiewicz Auteur : A. Aduszkiewicz\t# nombreproductions : 1\n",
      "M. M. Shapkin Auteur : M. M. Shapkin\t# nombreproductions : 1\n",
      "Erik D. Demaine Auteur : Erik D. Demaine\t# nombreproductions : 1\n",
      "NA61/SHINE Collaboration Auteur : NA61/SHINE Collaboration\t# nombreproductions : 1\n",
      "A. S. Sadovsky Auteur : A. S. Sadovsky\t# nombreproductions : 1\n",
      "S. Riordan Auteur : S. Riordan\t# nombreproductions : 1\n",
      "A. Acharya Auteur : A. Acharya\t# nombreproductions : 1\n",
      "J. Adamczewski-Musch Auteur : J. Adamczewski-Musch\t# nombreproductions : 1\n",
      "M. Patsyuk Auteur : M. Patsyuk\t# nombreproductions : 1\n",
      "V. L. Kashevarov Auteur : V. L. Kashevarov\t# nombreproductions : 1\n",
      "M. Agostini Auteur : M. Agostini\t# nombreproductions : 2\n"
     ]
    }
   ],
   "source": [
    "print(corpusi)"
   ]
  },
  {
   "cell_type": "code",
   "execution_count": 43,
   "id": "0027a78e",
   "metadata": {},
   "outputs": [
    {
     "name": "stdout",
     "output_type": "stream",
     "text": [
      "Nombre d'auteur\n"
     ]
    },
    {
     "data": {
      "text/plain": [
       "20"
      ]
     },
     "execution_count": 43,
     "metadata": {},
     "output_type": "execute_result"
    }
   ],
   "source": [
    "print(\"Nombre d'auteur\")\n",
    "corpusi.naut"
   ]
  },
  {
   "cell_type": "code",
   "execution_count": 44,
   "id": "38400e70",
   "metadata": {},
   "outputs": [
    {
     "name": "stdout",
     "output_type": "stream",
     "text": [
      "Nombre d'article\n"
     ]
    },
    {
     "data": {
      "text/plain": [
       "22"
      ]
     },
     "execution_count": 44,
     "metadata": {},
     "output_type": "execute_result"
    }
   ],
   "source": [
    "print(\"Nombre d'article\")\n",
    "corpusi.ndoc"
   ]
  }
 ],
 "metadata": {
  "kernelspec": {
   "display_name": "Python 3 (ipykernel)",
   "language": "python",
   "name": "python3"
  },
  "language_info": {
   "codemirror_mode": {
    "name": "ipython",
    "version": 3
   },
   "file_extension": ".py",
   "mimetype": "text/x-python",
   "name": "python",
   "nbconvert_exporter": "python",
   "pygments_lexer": "ipython3",
   "version": "3.11.7"
  }
 },
 "nbformat": 4,
 "nbformat_minor": 5
}
